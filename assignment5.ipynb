{
 "cells": [
  {
   "cell_type": "markdown",
   "id": "591365fb-a0aa-4ec3-8f9a-1fd5b6e45b91",
   "metadata": {},
   "source": [
    "QUESTION 1"
   ]
  },
  {
   "cell_type": "code",
   "execution_count": 1,
   "id": "01677e3d-58c1-44f0-b363-a7fe0e51eb26",
   "metadata": {},
   "outputs": [],
   "source": [
    "class vehicle :\n",
    "    def __init__(self,name,speed,average) :\n",
    "        self.name_of_vehicle = name\n",
    "        self.max_speed = speed\n",
    "        self.average_of_vehicle = average\n",
    "        \n",
    "v = vehicle('bugati' , 350 , 5)\n",
    "        "
   ]
  },
  {
   "cell_type": "code",
   "execution_count": 2,
   "id": "bebdecbd-6ae8-499d-baae-29f84df339aa",
   "metadata": {},
   "outputs": [
    {
     "data": {
      "text/plain": [
       "'bugati'"
      ]
     },
     "execution_count": 2,
     "metadata": {},
     "output_type": "execute_result"
    }
   ],
   "source": [
    "v.name_of_vehicle"
   ]
  },
  {
   "cell_type": "markdown",
   "id": "74afd95b-9b08-4d2c-b5ca-9eb91a55c569",
   "metadata": {},
   "source": [
    "QUESTION 2"
   ]
  },
  {
   "cell_type": "code",
   "execution_count": 3,
   "id": "dc7e7683-bdee-4e8e-9280-a8fb0a2af8f8",
   "metadata": {},
   "outputs": [],
   "source": [
    "class car(vehicle):\n",
    "    def seating_capacity(self,capacity):\n",
    "        capacity = capacity\n",
    "       \n",
    "        return capacity\n",
    "        "
   ]
  },
  {
   "cell_type": "code",
   "execution_count": 4,
   "id": "9df7f18e-e744-4d9b-89fe-ba5111280937",
   "metadata": {},
   "outputs": [],
   "source": [
    "v1 = vehicle('scooty',20 ,50)"
   ]
  },
  {
   "cell_type": "code",
   "execution_count": 5,
   "id": "47cfcd65-c6b4-40b2-aa89-b36b658a1067",
   "metadata": {},
   "outputs": [],
   "source": [
    "c = car('fereri',400, 4)"
   ]
  },
  {
   "cell_type": "code",
   "execution_count": 6,
   "id": "198e1167-bf81-47bb-b4c5-ec7a053067ee",
   "metadata": {},
   "outputs": [],
   "source": [
    "n = c.seating_capacity(5)"
   ]
  },
  {
   "cell_type": "code",
   "execution_count": 7,
   "id": "3291a25a-954f-48d3-a1cf-d41d3794cf54",
   "metadata": {},
   "outputs": [
    {
     "name": "stdout",
     "output_type": "stream",
     "text": [
      "5\n",
      "fereri\n"
     ]
    }
   ],
   "source": [
    "print(n)\n",
    "print(c.name_of_vehicle)"
   ]
  },
  {
   "cell_type": "markdown",
   "id": "787a075f-0803-42a9-ae88-aff57c795cc7",
   "metadata": {},
   "source": [
    "QUESTION 3"
   ]
  },
  {
   "cell_type": "code",
   "execution_count": 8,
   "id": "a5339499-0d28-455a-a8c7-461b012b49e6",
   "metadata": {},
   "outputs": [],
   "source": [
    "class parent1 :\n",
    "    def m1(self) :\n",
    "        print('this is parent1 method')\n",
    "\n",
    "class parent2 :\n",
    "    def m2(self) :\n",
    "        print('this is parent2 method')\n",
    "        \n",
    "class child(parent1,parent2) :\n",
    "    def m3(self) :\n",
    "        print('this is child method')"
   ]
  },
  {
   "cell_type": "code",
   "execution_count": 9,
   "id": "6914fd65-f6dc-4d2e-8fe2-23942a999e04",
   "metadata": {},
   "outputs": [],
   "source": [
    "c = child()"
   ]
  },
  {
   "cell_type": "code",
   "execution_count": 10,
   "id": "2cdcec14-6801-4b4e-8fc5-3998e23042a3",
   "metadata": {},
   "outputs": [
    {
     "name": "stdout",
     "output_type": "stream",
     "text": [
      "this is parent1 method\n"
     ]
    }
   ],
   "source": [
    "c.m1()"
   ]
  },
  {
   "cell_type": "markdown",
   "id": "7bddcd9b-d384-4a7c-8b82-de504a4a2d1b",
   "metadata": {},
   "source": [
    "QUESTION 4"
   ]
  },
  {
   "cell_type": "markdown",
   "id": "70303206-2e74-4ce8-897a-0b81b0bcd20a",
   "metadata": {},
   "source": [
    "GETTER AND SETTER METHODS - this are the methods to get and set values of the variables or methods of the class "
   ]
  },
  {
   "cell_type": "code",
   "execution_count": 11,
   "id": "4b49e663-1643-47d9-9498-08128df94a53",
   "metadata": {},
   "outputs": [
    {
     "name": "stdin",
     "output_type": "stream",
     "text": [
      "Enter number of students: 4\n",
      "Enter Name: q\n",
      "Enter Marks: 5\n"
     ]
    },
    {
     "name": "stdout",
     "output_type": "stream",
     "text": [
      "Hi q\n",
      "Your Marks are: 5\n",
      "\n"
     ]
    },
    {
     "name": "stdin",
     "output_type": "stream",
     "text": [
      "Enter Name: r\n",
      "Enter Marks: 3\n"
     ]
    },
    {
     "name": "stdout",
     "output_type": "stream",
     "text": [
      "Hi r\n",
      "Your Marks are: 3\n",
      "\n"
     ]
    },
    {
     "name": "stdin",
     "output_type": "stream",
     "text": [
      "Enter Name: y\n",
      "Enter Marks: 6\n"
     ]
    },
    {
     "name": "stdout",
     "output_type": "stream",
     "text": [
      "Hi y\n",
      "Your Marks are: 6\n",
      "\n"
     ]
    },
    {
     "name": "stdin",
     "output_type": "stream",
     "text": [
      "Enter Name: e\n",
      "Enter Marks: 1\n"
     ]
    },
    {
     "name": "stdout",
     "output_type": "stream",
     "text": [
      "Hi e\n",
      "Your Marks are: 1\n",
      "\n"
     ]
    }
   ],
   "source": [
    "class Student: \n",
    "    def setName(self, name): \n",
    "        self.name = name \n",
    "\n",
    "    def getName(self): \n",
    "        return self.name \n",
    "\n",
    "    def setMarks(self, marks): \n",
    "        self.marks = marks \n",
    "\n",
    "    def getMarks(self): \n",
    "        return self.marks \n",
    "\n",
    "n = int(input('Enter number of students:')) \n",
    "for i in range(n): \n",
    "    s = Student() \n",
    "    name = input('Enter Name:') \n",
    "    s.setName(name) \n",
    "    marks = int(input('Enter Marks:')) \n",
    "    s.setMarks(marks) \n",
    "\n",
    "    print('Hi', s.getName()) \n",
    "    print('Your Marks are:', s.getMarks()) \n",
    "    print()\n"
   ]
  },
  {
   "cell_type": "markdown",
   "id": "7bbecbc8-9499-4275-a9c6-f34d0c70e033",
   "metadata": {},
   "source": [
    "QUESTION 6\n",
    "\n",
    "method overriding - it is one of the properties of polymorphism , where in the child class we can overrite the method of the parent class which is having the same name along with same no of argument as the parent class "
   ]
  },
  {
   "cell_type": "code",
   "execution_count": 12,
   "id": "8e41964a-c5fb-4150-b5fb-c6729c9772d5",
   "metadata": {},
   "outputs": [],
   "source": [
    "class parent :\n",
    "    def m1(self):\n",
    "        print('this is the parent class')\n",
    "        \n",
    "class child(parent):\n",
    "    def m1(self):\n",
    "        print('this is the child class overwritten method call')"
   ]
  },
  {
   "cell_type": "code",
   "execution_count": 13,
   "id": "b650a619-f735-4c6b-921e-9fcfd0b571da",
   "metadata": {},
   "outputs": [],
   "source": [
    "c = child()"
   ]
  },
  {
   "cell_type": "code",
   "execution_count": 14,
   "id": "071d0ec6-d380-47bf-9e41-0c8be564721e",
   "metadata": {},
   "outputs": [
    {
     "name": "stdout",
     "output_type": "stream",
     "text": [
      "this is the child class overwritten method call\n"
     ]
    }
   ],
   "source": [
    "c.m1()"
   ]
  },
  {
   "cell_type": "code",
   "execution_count": null,
   "id": "c0d50f9f-47c1-4e40-b374-89b78b07d1a4",
   "metadata": {},
   "outputs": [],
   "source": []
  }
 ],
 "metadata": {
  "kernelspec": {
   "display_name": "Python 3 (ipykernel)",
   "language": "python",
   "name": "python3"
  },
  "language_info": {
   "codemirror_mode": {
    "name": "ipython",
    "version": 3
   },
   "file_extension": ".py",
   "mimetype": "text/x-python",
   "name": "python",
   "nbconvert_exporter": "python",
   "pygments_lexer": "ipython3",
   "version": "3.10.8"
  }
 },
 "nbformat": 4,
 "nbformat_minor": 5
}
