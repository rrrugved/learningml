{
 "cells": [
  {
   "cell_type": "markdown",
   "id": "da20375f-5483-4a8a-a0e2-c1273dbad7a0",
   "metadata": {},
   "source": [
    "QUESTION 1"
   ]
  },
  {
   "cell_type": "code",
   "execution_count": 1,
   "id": "828ebdf0-edc7-4922-830a-fbf6d813a5cc",
   "metadata": {},
   "outputs": [],
   "source": [
    "s = 'rugved'"
   ]
  },
  {
   "cell_type": "code",
   "execution_count": 2,
   "id": "56c1ac04-e280-4af6-be15-d54f99fdb9f1",
   "metadata": {},
   "outputs": [],
   "source": [
    "l = [1,2,3,4]"
   ]
  },
  {
   "cell_type": "code",
   "execution_count": 3,
   "id": "56d5c7a6-e7a0-44ce-a0d8-792e7e221214",
   "metadata": {},
   "outputs": [],
   "source": [
    "i = 1.2"
   ]
  },
  {
   "cell_type": "code",
   "execution_count": 4,
   "id": "95058b21-3a8f-4f1e-bb2e-a39721e0f168",
   "metadata": {},
   "outputs": [],
   "source": [
    "t = (3,56,\"name\",False)"
   ]
  },
  {
   "cell_type": "markdown",
   "id": "44f2db44-6f3b-47f1-9c19-2ac54aff8e7d",
   "metadata": {},
   "source": [
    "QUESTION 2\n",
    "\n",
    "1-string\n",
    "2-string\n",
    "3-list\n",
    "4-"
   ]
  },
  {
   "cell_type": "code",
   "execution_count": 5,
   "id": "fa2f1a8e-772f-4ed2-9a2f-d14ff024c549",
   "metadata": {},
   "outputs": [],
   "source": [
    "var1 = ''"
   ]
  },
  {
   "cell_type": "code",
   "execution_count": 6,
   "id": "2afa97c6-1176-4814-97b9-64da7d0d1f20",
   "metadata": {},
   "outputs": [
    {
     "data": {
      "text/plain": [
       "str"
      ]
     },
     "execution_count": 6,
     "metadata": {},
     "output_type": "execute_result"
    }
   ],
   "source": [
    "type(var1)"
   ]
  },
  {
   "cell_type": "code",
   "execution_count": 7,
   "id": "1a03261a-964f-4e0c-9af5-9c6907320377",
   "metadata": {},
   "outputs": [],
   "source": [
    "var2 = '[2,4,'r']'"
   ]
  },
  {
   "cell_type": "code",
   "execution_count": 8,
   "id": "aae67021-9904-436f-911a-c6c3385424fa",
   "metadata": {},
   "outputs": [
    {
     "data": {
      "text/plain": [
       "str"
      ]
     },
     "execution_count": 8,
     "metadata": {},
     "output_type": "execute_result"
    }
   ],
   "source": [
    "type(var2)"
   ]
  },
  {
   "cell_type": "code",
   "execution_count": 9,
   "id": "4e2f215f-3474-4b8c-8039-02ecd9aee5d7",
   "metadata": {},
   "outputs": [],
   "source": [
    "var4 = 1."
   ]
  },
  {
   "cell_type": "code",
   "execution_count": 10,
   "id": "04c9e4a6-c0d3-4574-af22-6647565abb7e",
   "metadata": {},
   "outputs": [
    {
     "data": {
      "text/plain": [
       "float"
      ]
     },
     "execution_count": 10,
     "metadata": {},
     "output_type": "execute_result"
    }
   ],
   "source": [
    "type(var4)"
   ]
  },
  {
   "cell_type": "markdown",
   "id": "69742220-d342-4afb-90a5-f87af40042fb",
   "metadata": {},
   "source": [
    "QUESTION 3\n",
    "\n",
    "/ - division operator - this is used to divide , this is a binary operator this always gives a floating point value"
   ]
  },
  {
   "cell_type": "code",
   "execution_count": 11,
   "id": "474c1415-b154-4e1d-8529-8ae2fedcf009",
   "metadata": {},
   "outputs": [
    {
     "name": "stdout",
     "output_type": "stream",
     "text": [
      "2.5\n"
     ]
    }
   ],
   "source": [
    "print(5/2)"
   ]
  },
  {
   "cell_type": "markdown",
   "id": "55213e7c-665c-4086-a414-869aabbe355a",
   "metadata": {},
   "source": [
    "% - modulo operator - this operator is used to find the remainder after division of the two binary operands , this is also a binary operator"
   ]
  },
  {
   "cell_type": "code",
   "execution_count": 12,
   "id": "4cf5c8a3-2f38-4cc1-a648-b3f49d2e4eef",
   "metadata": {},
   "outputs": [
    {
     "name": "stdout",
     "output_type": "stream",
     "text": [
      "1\n"
     ]
    }
   ],
   "source": [
    "print(5%2) #this will print the remainder after the division of 5 by 2"
   ]
  },
  {
   "cell_type": "markdown",
   "id": "3ea192ab-6e49-4ac6-b4ca-1972f7d9a8f6",
   "metadata": {},
   "source": [
    "// - floor division - this operator is used to get the floor value after the division rounding off to the lower integer \n"
   ]
  },
  {
   "cell_type": "code",
   "execution_count": 13,
   "id": "b2a9e408-b1ce-4c85-91e0-4c26a544cad4",
   "metadata": {},
   "outputs": [
    {
     "name": "stdout",
     "output_type": "stream",
     "text": [
      "2\n"
     ]
    }
   ],
   "source": [
    "print(5//2) #this would print 2"
   ]
  },
  {
   "cell_type": "markdown",
   "id": "209158a5-6266-4c48-8571-04c6578bdd45",
   "metadata": {},
   "source": [
    "** - power operator - this operator is used to find the power of first operand to the second operand , it is also a binary operator "
   ]
  },
  {
   "cell_type": "code",
   "execution_count": 14,
   "id": "36cafdec-73a8-4409-b2e3-46cf47493a6c",
   "metadata": {},
   "outputs": [
    {
     "name": "stdout",
     "output_type": "stream",
     "text": [
      "16\n"
     ]
    }
   ],
   "source": [
    "print(2**4)"
   ]
  },
  {
   "cell_type": "markdown",
   "id": "be2d85ed-cf38-4a41-a974-7e331eb14d67",
   "metadata": {},
   "source": [
    "QUESTION 4 "
   ]
  },
  {
   "cell_type": "code",
   "execution_count": 15,
   "id": "256d70ee-21ad-405d-b536-e9bef52c5b51",
   "metadata": {},
   "outputs": [
    {
     "name": "stdout",
     "output_type": "stream",
     "text": [
      "2\n",
      "<class 'int'>\n",
      "5\n",
      "<class 'int'>\n",
      "1.0\n",
      "<class 'float'>\n",
      "r\n",
      "<class 'str'>\n",
      "False\n",
      "<class 'bool'>\n",
      "7\n",
      "<class 'int'>\n",
      "0\n",
      "<class 'int'>\n",
      "u\n",
      "<class 'str'>\n",
      "[1, 2]\n",
      "<class 'list'>\n",
      "5\n",
      "<class 'int'>\n"
     ]
    }
   ],
   "source": [
    "l = [2,5,1.0,'r',False,7,0,'u',[1,2],5]\n",
    "for i in l :\n",
    "    print(i)\n",
    "    print(type(i))"
   ]
  },
  {
   "cell_type": "markdown",
   "id": "99f82dd4-e74e-4f80-a2db-04053dcc385c",
   "metadata": {},
   "source": [
    "QUESTION 5 "
   ]
  },
  {
   "cell_type": "code",
   "execution_count": 16,
   "id": "0df93c9e-1843-4310-8c3c-aa84439c86ae",
   "metadata": {},
   "outputs": [
    {
     "name": "stdin",
     "output_type": "stream",
     "text": [
      "enter the number 10\n",
      "enter the number to divide by 2\n"
     ]
    },
    {
     "name": "stdout",
     "output_type": "stream",
     "text": [
      "a is purely divisible by b\n",
      "it can be divisible by  5.0 times\n"
     ]
    }
   ],
   "source": [
    "a = int(input('enter the number'))\n",
    "b =int(input('enter the number to divide by'))\n",
    "i=1\n",
    "while(i) :\n",
    "    if(a%b==0) :\n",
    "        print('a is purely divisible by b')\n",
    "        print('it can be divisible by ', a/b , 'times')\n",
    "        \n",
    "    else :\n",
    "        print('a is not purely divisible by b')\n",
    "    i=i-1\n"
   ]
  },
  {
   "cell_type": "markdown",
   "id": "1c623e37-3942-4e0d-9cc5-f895f0ca3aa1",
   "metadata": {},
   "source": [
    "QUESTION 6"
   ]
  },
  {
   "cell_type": "code",
   "execution_count": 17,
   "id": "2e3bc324-35fc-475f-8c6f-b9daed08d450",
   "metadata": {},
   "outputs": [
    {
     "name": "stdout",
     "output_type": "stream",
     "text": [
      "[3, 19, 96, 91, 21, 80, 99, 81, 92, 78, 65, 19, 50, 24, 7, 57, 27, 66, 3, 24, 73, 51, 65, 12, 50, 81]\n",
      "element 3 is divisible by 3\n",
      "element 19 is not divisible by 3\n",
      "element 96 is divisible by 3\n",
      "element 91 is not divisible by 3\n",
      "element 21 is divisible by 3\n",
      "element 80 is not divisible by 3\n",
      "element 99 is divisible by 3\n",
      "element 81 is divisible by 3\n",
      "element 92 is not divisible by 3\n",
      "element 78 is divisible by 3\n",
      "element 65 is not divisible by 3\n",
      "element 19 is not divisible by 3\n",
      "element 50 is not divisible by 3\n",
      "element 24 is divisible by 3\n",
      "element 7 is not divisible by 3\n",
      "element 57 is divisible by 3\n",
      "element 27 is divisible by 3\n",
      "element 66 is divisible by 3\n",
      "element 3 is divisible by 3\n",
      "element 24 is divisible by 3\n",
      "element 73 is not divisible by 3\n",
      "element 51 is divisible by 3\n",
      "element 65 is not divisible by 3\n",
      "element 12 is divisible by 3\n",
      "element 50 is not divisible by 3\n",
      "element 81 is divisible by 3\n"
     ]
    }
   ],
   "source": [
    "import random\n",
    "l = [3]\n",
    "for i in range(25) :\n",
    "    l.append(random.randint(0,100))\n",
    "print(l)\n",
    "for i in l :\n",
    "    if(i%3==0) :\n",
    "        print('element',i,'is divisible by 3')\n",
    "    else :\n",
    "        print('element',i,'is not divisible by 3')\n",
    " "
   ]
  },
  {
   "cell_type": "markdown",
   "id": "f31d2fcf-3b06-4b77-87cb-abc6be41f3db",
   "metadata": {},
   "source": [
    "QUESTION 7\n",
    "MUTABLE - mutability means we can modify , change , add the elements present in the data storing structure \n",
    "          list , set , dictionary are mutable datatypes in python\n",
    "IMMUTABLE - immutable datatypes are the datatypes which cannot be modified or updated or even we cannot add or remove elements from the datatypes \n",
    "          examples of immutable datatypes in python are tuple , frozen set also all primitive data types such as int , float , boolean are all                   immutable datatypes , whenever we are changing the values new objects get created but the original object remains the same"
   ]
  },
  {
   "cell_type": "code",
   "execution_count": 18,
   "id": "80bde90e-3b74-4536-aad4-41d0b628a2ea",
   "metadata": {},
   "outputs": [],
   "source": [
    "l = [1,2,3]\n",
    "l.append(5)\n",
    "#we can see this works good \n"
   ]
  },
  {
   "cell_type": "code",
   "execution_count": 20,
   "id": "0204e7c2-e9bb-4fd8-b40c-551210faab1b",
   "metadata": {},
   "outputs": [
    {
     "data": {
      "text/plain": [
       "[1, 2, 3, 5]"
      ]
     },
     "execution_count": 20,
     "metadata": {},
     "output_type": "execute_result"
    }
   ],
   "source": [
    "l"
   ]
  },
  {
   "cell_type": "code",
   "execution_count": 19,
   "id": "61031484-74cf-42e2-90c7-b132d3185648",
   "metadata": {},
   "outputs": [
    {
     "ename": "AttributeError",
     "evalue": "'tuple' object has no attribute 'append'",
     "output_type": "error",
     "traceback": [
      "\u001b[0;31m---------------------------------------------------------------------------\u001b[0m",
      "\u001b[0;31mAttributeError\u001b[0m                            Traceback (most recent call last)",
      "Cell \u001b[0;32mIn[19], line 2\u001b[0m\n\u001b[1;32m      1\u001b[0m t \u001b[38;5;241m=\u001b[39m (\u001b[38;5;241m5\u001b[39m,\u001b[38;5;241m2\u001b[39m,\u001b[38;5;241m1\u001b[39m)\n\u001b[0;32m----> 2\u001b[0m \u001b[43mt\u001b[49m\u001b[38;5;241;43m.\u001b[39;49m\u001b[43mappend\u001b[49m(\u001b[38;5;241m1\u001b[39m)\n\u001b[1;32m      3\u001b[0m \u001b[38;5;66;03m#there is no methods to change the tupple as it is immutable therefore it throws an error\u001b[39;00m\n",
      "\u001b[0;31mAttributeError\u001b[0m: 'tuple' object has no attribute 'append'"
     ]
    }
   ],
   "source": [
    "t = (5,2,1)\n",
    "t.append(1)\n",
    "#there is no methods to change the tupple as it is immutable therefore it throws an error"
   ]
  },
  {
   "cell_type": "code",
   "execution_count": null,
   "id": "cb3167a9-46fa-4df6-a6f9-0cf9749f2ba2",
   "metadata": {},
   "outputs": [],
   "source": []
  }
 ],
 "metadata": {
  "kernelspec": {
   "display_name": "Python 3 (ipykernel)",
   "language": "python",
   "name": "python3"
  },
  "language_info": {
   "codemirror_mode": {
    "name": "ipython",
    "version": 3
   },
   "file_extension": ".py",
   "mimetype": "text/x-python",
   "name": "python",
   "nbconvert_exporter": "python",
   "pygments_lexer": "ipython3",
   "version": "3.10.8"
  }
 },
 "nbformat": 4,
 "nbformat_minor": 5
}
