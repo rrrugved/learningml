{
 "cells": [
  {
   "cell_type": "markdown",
   "id": "61b85e7c-567e-4f65-9d90-4ce2e00c030a",
   "metadata": {},
   "source": [
    "QUESTION 1\n",
    "\n",
    "to comment code in python we use # character , after writting this character the compiler gets to know that this is a comment and not the code\n",
    "\n",
    "\n",
    "there are two types of comments in python - \n",
    "1-single line comment \n",
    "2-multiline comment \n",
    "examples are given below"
   ]
  },
  {
   "cell_type": "code",
   "execution_count": 1,
   "id": "0643e830-61f2-4762-a6b9-8b3df8cf8b3c",
   "metadata": {},
   "outputs": [],
   "source": [
    "#single line comment\n",
    "\n"
   ]
  },
  {
   "cell_type": "code",
   "execution_count": 2,
   "id": "35af7e23-ee6c-41ae-80c7-e267895c1698",
   "metadata": {},
   "outputs": [
    {
     "data": {
      "text/plain": [
       "' this is multiline \\ncomment which is or need to be enclosed by triple double comma '"
      ]
     },
     "execution_count": 2,
     "metadata": {},
     "output_type": "execute_result"
    }
   ],
   "source": [
    "\"\"\" this is multiline \n",
    "comment which is or need to be enclosed by triple double comma \"\"\""
   ]
  },
  {
   "cell_type": "markdown",
   "id": "86f1f79c-6f7a-4f87-84c3-b7444a457488",
   "metadata": {},
   "source": [
    "QUESTION 2 \n",
    "\n",
    "variables are the different names in python which are used to store data , there is also proper nameing convention for variable name that is needed to be followed \n",
    "\n",
    "to declare a variable we write the name of the variable followed with the initialization of the variable without specifying the datatype of the variable as python is dynamically types programming language , example is given below"
   ]
  },
  {
   "cell_type": "code",
   "execution_count": 3,
   "id": "0babcfaa-65d8-4c1a-8bb1-0cf6a335f807",
   "metadata": {},
   "outputs": [],
   "source": [
    "a = 2 "
   ]
  },
  {
   "cell_type": "code",
   "execution_count": 4,
   "id": "78be69c3-93ee-4377-9e38-5a45afcdf455",
   "metadata": {},
   "outputs": [
    {
     "data": {
      "text/plain": [
       "int"
      ]
     },
     "execution_count": 4,
     "metadata": {},
     "output_type": "execute_result"
    }
   ],
   "source": [
    "type(a)"
   ]
  },
  {
   "cell_type": "markdown",
   "id": "a528c88c-d3d1-4e84-893a-e70887174e1e",
   "metadata": {},
   "source": [
    "QUESTION 3 \n",
    "\n",
    "to convert one datatype to another in python we should know the concept of typecasting \n",
    "ex - if we want to convert the list into tupple we write tuple(list) and for tuple to list list(tuple)\n",
    "\n",
    "aslo typecasting can also be done for primitive data types such as for int , float , bool etc."
   ]
  },
  {
   "cell_type": "markdown",
   "id": "80898725-37b6-49aa-8364-4234bf8ace8e",
   "metadata": {},
   "source": [
    "QUESTION 4\n",
    "\n",
    "sry i dont know the exact answer "
   ]
  },
  {
   "cell_type": "markdown",
   "id": "5b430b4f-4392-423e-a02f-4ea9a2855067",
   "metadata": {},
   "source": [
    "QUESTION 5"
   ]
  },
  {
   "cell_type": "code",
   "execution_count": 6,
   "id": "10e9292b-c743-45db-8f00-f0d3ba92f1b4",
   "metadata": {},
   "outputs": [
    {
     "name": "stdout",
     "output_type": "stream",
     "text": [
      "[2, 3]\n"
     ]
    }
   ],
   "source": [
    "l = [1,2,3,4,5]\n",
    "l1 = l[1:3]\n",
    "print(l1)"
   ]
  },
  {
   "cell_type": "markdown",
   "id": "dccb32d5-00cc-40ed-8716-612c2c092a25",
   "metadata": {},
   "source": [
    "QUESTION 6\n",
    "\n",
    "complex number in maths is used to represent the two dimensional measurements .\n",
    "\n",
    "it is reperesent by x+yj where x represents the real quantity or the x axis , and y represents the imaginary quantity or y axis "
   ]
  },
  {
   "cell_type": "code",
   "execution_count": 7,
   "id": "613b1d62-0168-475f-8b98-6b9e5c530819",
   "metadata": {},
   "outputs": [
    {
     "data": {
      "text/plain": [
       "complex"
      ]
     },
     "execution_count": 7,
     "metadata": {},
     "output_type": "execute_result"
    }
   ],
   "source": [
    "c = 2 + 3j\n",
    "type(c)"
   ]
  },
  {
   "cell_type": "markdown",
   "id": "75309419-699c-4f07-885e-55c6d3af975b",
   "metadata": {},
   "source": [
    "QUESTION 7\n",
    "\n",
    "the correct way to declare a variable is by writin the variable name followed by the assignment operator and writingb the value to store the variable \n",
    "in python we dont need to bother or write the datatype of the variable as python is dynamically typed programming language\n",
    "\n",
    "x = 2"
   ]
  },
  {
   "cell_type": "markdown",
   "id": "2cc8120d-ebf1-4dda-b846-2dab77d3a737",
   "metadata": {},
   "source": [
    "QUESTION 8"
   ]
  },
  {
   "cell_type": "code",
   "execution_count": 8,
   "id": "328ffcd5-29f2-4aed-92fc-89c6b38ead2f",
   "metadata": {},
   "outputs": [
    {
     "data": {
      "text/plain": [
       "float"
      ]
     },
     "execution_count": 8,
     "metadata": {},
     "output_type": "execute_result"
    }
   ],
   "source": [
    "price = 9.99\n",
    "type(price)"
   ]
  },
  {
   "cell_type": "markdown",
   "id": "1ac7b32a-a763-4177-8b84-96400a0fd4ff",
   "metadata": {},
   "source": [
    "QUESTION 9\n"
   ]
  },
  {
   "cell_type": "code",
   "execution_count": 9,
   "id": "7c7a911d-5745-4e75-a44e-3ed8ab6da6ff",
   "metadata": {},
   "outputs": [
    {
     "name": "stdout",
     "output_type": "stream",
     "text": [
      "rugved sunil khumkar\n"
     ]
    }
   ],
   "source": [
    "name = \"rugved sunil khumkar\"\n",
    "print(name)"
   ]
  },
  {
   "cell_type": "code",
   "execution_count": 10,
   "id": "ab241512-dfc4-429d-9c27-9081772930f8",
   "metadata": {},
   "outputs": [
    {
     "data": {
      "text/plain": [
       "'rugved sunil khumkar'"
      ]
     },
     "execution_count": 10,
     "metadata": {},
     "output_type": "execute_result"
    }
   ],
   "source": [
    "name"
   ]
  },
  {
   "cell_type": "markdown",
   "id": "13147109-8c0f-4a31-ba1b-3185b2fb178c",
   "metadata": {},
   "source": [
    "QUESTION 10"
   ]
  },
  {
   "cell_type": "code",
   "execution_count": 11,
   "id": "7fc3a0af-627c-4615-b58d-6021f891bc36",
   "metadata": {},
   "outputs": [
    {
     "name": "stdout",
     "output_type": "stream",
     "text": [
      "world\n"
     ]
    }
   ],
   "source": [
    "s = 'hello,world!'\n",
    "s1 = s[6:11]\n",
    "print(s1)"
   ]
  },
  {
   "cell_type": "markdown",
   "id": "1df8f040-ef04-4929-b96b-c496ddad3952",
   "metadata": {},
   "source": [
    "QUESTION 11"
   ]
  },
  {
   "cell_type": "code",
   "execution_count": null,
   "id": "71767224-a98c-4f0a-b600-c27219fafb77",
   "metadata": {},
   "outputs": [],
   "source": [
    "s = eval(input('enter 1 '))\n",
    "is_student = None\n"
   ]
  }
 ],
 "metadata": {
  "kernelspec": {
   "display_name": "Python 3 (ipykernel)",
   "language": "python",
   "name": "python3"
  },
  "language_info": {
   "codemirror_mode": {
    "name": "ipython",
    "version": 3
   },
   "file_extension": ".py",
   "mimetype": "text/x-python",
   "name": "python",
   "nbconvert_exporter": "python",
   "pygments_lexer": "ipython3",
   "version": "3.10.8"
  }
 },
 "nbformat": 4,
 "nbformat_minor": 5
}
