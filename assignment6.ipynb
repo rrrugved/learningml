{
 "cells": [
  {
   "cell_type": "markdown",
   "id": "4c543dd7-4dc7-4dd2-afe7-6fd8e0cb69f6",
   "metadata": {},
   "source": [
    "QUESTION 1\n",
    "\n",
    "Class\n",
    "A class is a blueprint or template for creating objects. It defines a set of attributes (variables) and methods (functions) that the objects created from the class can have. \n",
    "\n",
    "Object\n",
    "An object is an instance of a class. When a class is defined, no memory is allocated until an object of that class is created. Objects have states and behaviors, which are defined by the attributes and methods of the class."
   ]
  },
  {
   "cell_type": "code",
   "execution_count": 1,
   "id": "123c3ee3-0e4c-4dae-86ac-1483229700f4",
   "metadata": {},
   "outputs": [],
   "source": [
    "class p :\n",
    "    def m1(self) :\n",
    "        print('class')\n",
    "#creating a class p object\n",
    "p1 = p()"
   ]
  },
  {
   "cell_type": "code",
   "execution_count": 3,
   "id": "2ccf113f-d74f-4591-b6ef-52bf1d277c2b",
   "metadata": {},
   "outputs": [
    {
     "name": "stdout",
     "output_type": "stream",
     "text": [
      "class\n"
     ]
    }
   ],
   "source": [
    "p1.m1()"
   ]
  },
  {
   "cell_type": "markdown",
   "id": "caf7cc85-4222-4f7f-b3e6-f18ee410ac77",
   "metadata": {},
   "source": [
    "QUESTION 2\n",
    "\n",
    "the four pillars of oops are \n",
    "1-encapsulation\n",
    "2-inheritance\n",
    "3-polymorphism\n",
    "4-abstraction"
   ]
  },
  {
   "cell_type": "markdown",
   "id": "0f8ffd88-2ede-472a-8476-fb5ba254c131",
   "metadata": {},
   "source": [
    "QUESTION 3\n",
    "\n",
    "the __init__() function is used to initialize the class variables and functions , it is a constructor call , it executes automatically whenever any object is created "
   ]
  },
  {
   "cell_type": "code",
   "execution_count": 4,
   "id": "e89894e6-b829-4a7b-a703-1d6c82788a68",
   "metadata": {},
   "outputs": [],
   "source": [
    "class vehicle :\n",
    "    def __init__(self,name,speed,average) :\n",
    "        self.name_of_vehicle = name\n",
    "        self.max_speed = speed\n",
    "        self.average_of_vehicle = average\n",
    "        \n",
    "v = vehicle('bugati' , 350 , 5)"
   ]
  },
  {
   "cell_type": "code",
   "execution_count": 5,
   "id": "6e586943-1195-4142-9348-ce3ca3d919af",
   "metadata": {},
   "outputs": [
    {
     "data": {
      "text/plain": [
       "'bugati'"
      ]
     },
     "execution_count": 5,
     "metadata": {},
     "output_type": "execute_result"
    }
   ],
   "source": [
    "v.name_of_vehicle"
   ]
  },
  {
   "cell_type": "markdown",
   "id": "07fed911-e3e2-4db5-9767-3196c8e47748",
   "metadata": {},
   "source": [
    "QUESTION 4\n",
    "\n",
    "In Object-Oriented Programming (OOP), the self keyword is used in Python to refer to the instance of the class. It is a way for instance methods to access instance attributes and other methods of the same object"
   ]
  },
  {
   "cell_type": "markdown",
   "id": "c47fd4f7-032b-4028-90ac-e9e6aa37d2e3",
   "metadata": {},
   "source": []
  }
 ],
 "metadata": {
  "kernelspec": {
   "display_name": "Python 3 (ipykernel)",
   "language": "python",
   "name": "python3"
  },
  "language_info": {
   "codemirror_mode": {
    "name": "ipython",
    "version": 3
   },
   "file_extension": ".py",
   "mimetype": "text/x-python",
   "name": "python",
   "nbconvert_exporter": "python",
   "pygments_lexer": "ipython3",
   "version": "3.10.8"
  }
 },
 "nbformat": 4,
 "nbformat_minor": 5
}
