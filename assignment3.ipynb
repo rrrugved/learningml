{
 "cells": [
  {
   "cell_type": "markdown",
   "id": "69293ccc-d00b-4032-ba79-026834374459",
   "metadata": {},
   "source": [
    "QUESTION 1\n",
    "\n",
    "the keyword used to create a function is - def "
   ]
  },
  {
   "cell_type": "code",
   "execution_count": 2,
   "id": "6c80d6e3-2be7-4970-a097-e0b9d02c14e6",
   "metadata": {},
   "outputs": [
    {
     "name": "stdout",
     "output_type": "stream",
     "text": [
      "[1, 3, 5, 7, 9, 11, 13, 15, 17, 19, 21, 23]\n"
     ]
    }
   ],
   "source": [
    "def odd_num() :\n",
    "    for i in range(1,25):\n",
    "        if i%2==0:\n",
    "            pass\n",
    "        else :\n",
    "            l.append(i)\n",
    "\n",
    "l = []\n",
    "odd_num()\n",
    "print(l)"
   ]
  },
  {
   "cell_type": "markdown",
   "id": "5057472c-ade7-4b1e-bbb7-2d7728560d93",
   "metadata": {},
   "source": [
    "QUESTION 2\n",
    "\n",
    "*args - is used to give unknown number of arguments to the function parameters \n",
    "**kwargs - keyword argument is also to give unknown or different no of arguments to the function parameters\n",
    "\n",
    "example is given below"
   ]
  },
  {
   "cell_type": "code",
   "execution_count": 3,
   "id": "987db825-7997-42d7-9dc4-384d640ae5b7",
   "metadata": {},
   "outputs": [
    {
     "name": "stdout",
     "output_type": "stream",
     "text": [
      "10\n",
      "30\n"
     ]
    }
   ],
   "source": [
    "def sum_numbers(*args):\n",
    "    return sum(args)\n",
    "\n",
    "\n",
    "print(sum_numbers(1, 2, 3, 4))  # Output: 10\n",
    "print(sum_numbers(5, 10, 15))   # Output: 30\n"
   ]
  },
  {
   "cell_type": "markdown",
   "id": "d1336800-3c7f-4e90-84b0-3deb5b87eb7d",
   "metadata": {},
   "source": [
    "QUESTION 3\n",
    "\n",
    "In Python, an iterator is an object that allows you to traverse through all the elements of a collection (like lists, tuples, and dictionaries) one at a time\n",
    "\n",
    "the method used to initialize the iterator object is iter() , an iterable object is passed through this function gives us an iterator \n",
    "\n",
    "the method next() is used to get the element of the iterator\n",
    "\n",
    "example is given below"
   ]
  },
  {
   "cell_type": "code",
   "execution_count": 4,
   "id": "591e8fd4-9b5d-4b71-b2ec-d303eab4a1f7",
   "metadata": {},
   "outputs": [],
   "source": [
    "l = [1,2,4,5,33,9]\n",
    "l1 = iter(l)"
   ]
  },
  {
   "cell_type": "code",
   "execution_count": 5,
   "id": "1b060ef3-a94c-48ec-b6d3-5bdcfd404ec1",
   "metadata": {},
   "outputs": [
    {
     "data": {
      "text/plain": [
       "<list_iterator at 0x7f1838691870>"
      ]
     },
     "execution_count": 5,
     "metadata": {},
     "output_type": "execute_result"
    }
   ],
   "source": [
    "l1"
   ]
  },
  {
   "cell_type": "code",
   "execution_count": 6,
   "id": "2745f23b-944a-40dd-b10d-6112c183dc3f",
   "metadata": {},
   "outputs": [
    {
     "name": "stdout",
     "output_type": "stream",
     "text": [
      "1\n"
     ]
    }
   ],
   "source": [
    "print(next(l1))"
   ]
  },
  {
   "cell_type": "code",
   "execution_count": 7,
   "id": "238622f1-7d41-4d1f-9a78-c2ff08773584",
   "metadata": {},
   "outputs": [
    {
     "name": "stdout",
     "output_type": "stream",
     "text": [
      "2\n"
     ]
    }
   ],
   "source": [
    "print(next(l1))"
   ]
  },
  {
   "cell_type": "code",
   "execution_count": 8,
   "id": "95934736-bf29-4e21-8637-6444467eb1ef",
   "metadata": {},
   "outputs": [
    {
     "name": "stdout",
     "output_type": "stream",
     "text": [
      "4\n"
     ]
    }
   ],
   "source": [
    "print(next(l1))"
   ]
  },
  {
   "cell_type": "markdown",
   "id": "4ab7aaad-fa63-43e3-8cf3-51bcf4c70cdc",
   "metadata": {},
   "source": [
    "QUESTION 4\n",
    "\n",
    "generator function in python is used for memory optimization , it does not store any value or return a value due to which memory is consumed,\n",
    "but generator function just yields or we can say calculates and gives the result and does not utilizes the memory for storage , this can be usefull when we doesnt need the long or large object after a single use \n",
    "\n",
    "generator object generates with the help of yield statement \n",
    "\n",
    "example is given below"
   ]
  },
  {
   "cell_type": "code",
   "execution_count": 9,
   "id": "587af79b-1b53-4073-a929-120ff124fb3a",
   "metadata": {},
   "outputs": [
    {
     "data": {
      "text/plain": [
       "<generator object genra at 0x7f18401c7990>"
      ]
     },
     "execution_count": 9,
     "metadata": {},
     "output_type": "execute_result"
    }
   ],
   "source": [
    "def genra() :\n",
    "    for i in range(0,25):\n",
    "        if i%2==0 :\n",
    "            yield i\n",
    "        else :\n",
    "            pass\n",
    "genra()"
   ]
  },
  {
   "cell_type": "code",
   "execution_count": 10,
   "id": "d6532777-9aa8-4ef8-84ce-a63f86529317",
   "metadata": {},
   "outputs": [],
   "source": [
    "l = iter(genra())"
   ]
  },
  {
   "cell_type": "code",
   "execution_count": 11,
   "id": "7450feb2-ee6f-4e46-adab-5d5ad0904012",
   "metadata": {},
   "outputs": [
    {
     "data": {
      "text/plain": [
       "0"
      ]
     },
     "execution_count": 11,
     "metadata": {},
     "output_type": "execute_result"
    }
   ],
   "source": [
    "next(genra())"
   ]
  },
  {
   "cell_type": "code",
   "execution_count": 12,
   "id": "08c2dd7c-607b-4f0b-9c09-e3257cc6bdb7",
   "metadata": {},
   "outputs": [
    {
     "data": {
      "text/plain": [
       "0"
      ]
     },
     "execution_count": 12,
     "metadata": {},
     "output_type": "execute_result"
    }
   ],
   "source": [
    "next(l)"
   ]
  },
  {
   "cell_type": "code",
   "execution_count": 13,
   "id": "03722be6-059f-4f90-986b-1f166597383d",
   "metadata": {},
   "outputs": [
    {
     "data": {
      "text/plain": [
       "2"
      ]
     },
     "execution_count": 13,
     "metadata": {},
     "output_type": "execute_result"
    }
   ],
   "source": [
    "next(l)"
   ]
  },
  {
   "cell_type": "code",
   "execution_count": 14,
   "id": "e0b37a12-847a-481f-9152-5417d906cd64",
   "metadata": {},
   "outputs": [
    {
     "data": {
      "text/plain": [
       "4"
      ]
     },
     "execution_count": 14,
     "metadata": {},
     "output_type": "execute_result"
    }
   ],
   "source": [
    "next(l)"
   ]
  },
  {
   "cell_type": "markdown",
   "id": "8052b056-9be0-4706-b31a-6675c39d2afe",
   "metadata": {},
   "source": [
    "QUESTION 5"
   ]
  },
  {
   "cell_type": "code",
   "execution_count": 15,
   "id": "4cb07b5c-179f-4a51-823a-b21dea038b0a",
   "metadata": {},
   "outputs": [
    {
     "name": "stdout",
     "output_type": "stream",
     "text": [
      "2\n",
      "3\n",
      "5\n",
      "7\n",
      "11\n",
      "13\n",
      "17\n",
      "19\n",
      "23\n",
      "29\n",
      "31\n",
      "37\n",
      "41\n",
      "43\n",
      "47\n",
      "53\n",
      "59\n",
      "61\n",
      "67\n",
      "71\n"
     ]
    }
   ],
   "source": [
    "def is_prime(num):\n",
    "    \"\"\"Check if a number is a prime number.\"\"\"\n",
    "    if num <= 1:\n",
    "        return False\n",
    "    for i in range(2, int(num**0.5) + 1):\n",
    "        if num % i == 0:\n",
    "            return False\n",
    "    return True\n",
    "\n",
    "def prime_generator(limit):\n",
    "    \"\"\"Generator function to yield prime numbers less than the specified limit.\"\"\"\n",
    "    num = 2\n",
    "    while num < limit:\n",
    "        if is_prime(num):\n",
    "            yield num\n",
    "        num += 1\n",
    "\n",
    "# Create the prime number generator\n",
    "primes = prime_generator(1000)\n",
    "\n",
    "# Use the next() method to print the first 20 prime numbers\n",
    "for i in range(20):\n",
    "    print(next(primes))\n",
    "\n",
    "                    \n",
    "        \n",
    "                    "
   ]
  },
  {
   "cell_type": "markdown",
   "id": "16d7c15c-0cfd-4e3c-8edf-1801e5aa8dc1",
   "metadata": {},
   "source": [
    "QUESTION 6 \n"
   ]
  },
  {
   "cell_type": "code",
   "execution_count": 19,
   "id": "da62313a-3ae7-48d7-87aa-7d663fd9517d",
   "metadata": {},
   "outputs": [],
   "source": [
    "def fibo(n):\n",
    "    if(n==0):\n",
    "        return 0\n",
    "    if(n==1):\n",
    "        return 1\n",
    "    return fibo(n-1)+fibo(n-2)\n",
    "    "
   ]
  },
  {
   "cell_type": "code",
   "execution_count": 21,
   "id": "4b9ee167-10be-403a-9cad-d3f8c437f0c6",
   "metadata": {},
   "outputs": [
    {
     "data": {
      "text/plain": [
       "55"
      ]
     },
     "execution_count": 21,
     "metadata": {},
     "output_type": "execute_result"
    }
   ],
   "source": [
    "fibo(10)"
   ]
  },
  {
   "cell_type": "code",
   "execution_count": 22,
   "id": "ad1c94ea-ba3c-47c9-93b4-a5eb098b73aa",
   "metadata": {},
   "outputs": [
    {
     "name": "stdout",
     "output_type": "stream",
     "text": [
      "1\n",
      "1\n",
      "2\n",
      "3\n",
      "5\n",
      "8\n",
      "13\n",
      "21\n",
      "34\n",
      "55\n"
     ]
    }
   ],
   "source": [
    "i = 1\n",
    "while(i<=10):\n",
    "    print(fibo(i))\n",
    "    i = i + 1"
   ]
  },
  {
   "cell_type": "markdown",
   "id": "0d03dd80-a245-4d47-8b6e-26b697fd24bf",
   "metadata": {},
   "source": [
    "QUESTION 7"
   ]
  },
  {
   "cell_type": "code",
   "execution_count": 31,
   "id": "2e66c2d9-8e4d-47c2-842f-977a29127f5f",
   "metadata": {},
   "outputs": [
    {
     "data": {
      "text/plain": [
       "['p', 'w', 's', 'k', 'i', 'l', 'l', 's']"
      ]
     },
     "execution_count": 31,
     "metadata": {},
     "output_type": "execute_result"
    }
   ],
   "source": [
    "l = [x for x in 'pwskills']\n",
    "l"
   ]
  },
  {
   "cell_type": "markdown",
   "id": "d2748b55-8dd9-4f77-810b-3c8f8c8a5b3f",
   "metadata": {},
   "source": [
    "QUESTION 8"
   ]
  },
  {
   "cell_type": "code",
   "execution_count": 37,
   "id": "df8c19a6-9b35-4b71-a2d9-89ce4d93ea7c",
   "metadata": {},
   "outputs": [
    {
     "name": "stdout",
     "output_type": "stream",
     "text": [
      "Yes, it is a palindrome\n",
      "No, it is not a palindrome\n"
     ]
    }
   ],
   "source": [
    "def revnum(num):\n",
    "    i = num  # Initialize i with num\n",
    "    rev_num = 0\n",
    "    while i != 0:\n",
    "        last_num = i % 10  # Get the last digit\n",
    "        rev_num = rev_num * 10 + last_num  # Append the last digit to rev_num\n",
    "        i = i // 10  # Remove the last digit from i\n",
    "    return rev_num\n",
    "\n",
    "def palindrome_or_not(num):\n",
    "    original_num = num\n",
    "    if revnum(num) == original_num:\n",
    "        print('Yes, it is a palindrome')\n",
    "    else:\n",
    "        print('No, it is not a palindrome')\n",
    "\n",
    "# Test the function\n",
    "palindrome_or_not(12321)\n",
    "palindrome_or_not(12345)\n"
   ]
  },
  {
   "cell_type": "markdown",
   "id": "8f051872-70c0-4763-8ce1-65e959ea0680",
   "metadata": {},
   "source": [
    "QUESTION 9\n"
   ]
  },
  {
   "cell_type": "code",
   "execution_count": 38,
   "id": "1bffcf3e-7940-483b-a00a-62988a41a02f",
   "metadata": {},
   "outputs": [],
   "source": [
    "l = [x for x in range(1,101)]"
   ]
  },
  {
   "cell_type": "code",
   "execution_count": 39,
   "id": "8d0fa62b-bfc8-4ebe-a147-d5b4db9e2abf",
   "metadata": {},
   "outputs": [
    {
     "data": {
      "text/plain": [
       "[1,\n",
       " 2,\n",
       " 3,\n",
       " 4,\n",
       " 5,\n",
       " 6,\n",
       " 7,\n",
       " 8,\n",
       " 9,\n",
       " 10,\n",
       " 11,\n",
       " 12,\n",
       " 13,\n",
       " 14,\n",
       " 15,\n",
       " 16,\n",
       " 17,\n",
       " 18,\n",
       " 19,\n",
       " 20,\n",
       " 21,\n",
       " 22,\n",
       " 23,\n",
       " 24,\n",
       " 25,\n",
       " 26,\n",
       " 27,\n",
       " 28,\n",
       " 29,\n",
       " 30,\n",
       " 31,\n",
       " 32,\n",
       " 33,\n",
       " 34,\n",
       " 35,\n",
       " 36,\n",
       " 37,\n",
       " 38,\n",
       " 39,\n",
       " 40,\n",
       " 41,\n",
       " 42,\n",
       " 43,\n",
       " 44,\n",
       " 45,\n",
       " 46,\n",
       " 47,\n",
       " 48,\n",
       " 49,\n",
       " 50,\n",
       " 51,\n",
       " 52,\n",
       " 53,\n",
       " 54,\n",
       " 55,\n",
       " 56,\n",
       " 57,\n",
       " 58,\n",
       " 59,\n",
       " 60,\n",
       " 61,\n",
       " 62,\n",
       " 63,\n",
       " 64,\n",
       " 65,\n",
       " 66,\n",
       " 67,\n",
       " 68,\n",
       " 69,\n",
       " 70,\n",
       " 71,\n",
       " 72,\n",
       " 73,\n",
       " 74,\n",
       " 75,\n",
       " 76,\n",
       " 77,\n",
       " 78,\n",
       " 79,\n",
       " 80,\n",
       " 81,\n",
       " 82,\n",
       " 83,\n",
       " 84,\n",
       " 85,\n",
       " 86,\n",
       " 87,\n",
       " 88,\n",
       " 89,\n",
       " 90,\n",
       " 91,\n",
       " 92,\n",
       " 93,\n",
       " 94,\n",
       " 95,\n",
       " 96,\n",
       " 97,\n",
       " 98,\n",
       " 99,\n",
       " 100]"
      ]
     },
     "execution_count": 39,
     "metadata": {},
     "output_type": "execute_result"
    }
   ],
   "source": [
    "l"
   ]
  },
  {
   "cell_type": "code",
   "execution_count": null,
   "id": "dde0278c-53f9-4ded-9720-86d96fc24cdf",
   "metadata": {},
   "outputs": [],
   "source": []
  }
 ],
 "metadata": {
  "kernelspec": {
   "display_name": "Python 3 (ipykernel)",
   "language": "python",
   "name": "python3"
  },
  "language_info": {
   "codemirror_mode": {
    "name": "ipython",
    "version": 3
   },
   "file_extension": ".py",
   "mimetype": "text/x-python",
   "name": "python",
   "nbconvert_exporter": "python",
   "pygments_lexer": "ipython3",
   "version": "3.10.8"
  }
 },
 "nbformat": 4,
 "nbformat_minor": 5
}
