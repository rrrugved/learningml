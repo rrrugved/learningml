{
 "cells": [
  {
   "cell_type": "markdown",
   "id": "c7613cde-8a93-45b3-88d3-582885e70787",
   "metadata": {},
   "source": [
    "QUESTION 1\n"
   ]
  },
  {
   "cell_type": "code",
   "execution_count": 39,
   "id": "8528a9b4-97d9-4bc0-801f-ff0a4374be7a",
   "metadata": {},
   "outputs": [],
   "source": [
    "l = [('Sachin Tendulkar', 34357), ('Ricky Ponting', 27483), ('Jack Kallis', 25534), ('Virat Kohli', 24936)]\n"
   ]
  },
  {
   "cell_type": "code",
   "execution_count": 43,
   "id": "fa98dd8a-af2e-4124-b45e-a5ccf83f491f",
   "metadata": {},
   "outputs": [
    {
     "data": {
      "text/plain": [
       "('Sachin Tendulkar', 34357)"
      ]
     },
     "execution_count": 43,
     "metadata": {},
     "output_type": "execute_result"
    }
   ],
   "source": [
    "l[0]"
   ]
  },
  {
   "cell_type": "code",
   "execution_count": 45,
   "id": "bd8122c1-7589-4150-a716-1b845a84120f",
   "metadata": {},
   "outputs": [],
   "source": [
    "l1 = list(l[0])"
   ]
  },
  {
   "cell_type": "code",
   "execution_count": 46,
   "id": "a4973361-3631-4724-bfc3-30c5e8b63a10",
   "metadata": {},
   "outputs": [
    {
     "data": {
      "text/plain": [
       "['Sachin Tendulkar', 34357]"
      ]
     },
     "execution_count": 46,
     "metadata": {},
     "output_type": "execute_result"
    }
   ],
   "source": [
    "l1"
   ]
  },
  {
   "cell_type": "code",
   "execution_count": 47,
   "id": "ffd50b7e-a4eb-4ed1-98c9-82b4c8fbcb05",
   "metadata": {},
   "outputs": [],
   "source": [
    "store_var=l1[0]\n",
    "l1[0]=l1[1]\n",
    "l1[1]=store_var"
   ]
  },
  {
   "cell_type": "code",
   "execution_count": 48,
   "id": "f7c7d9a5-5389-439c-8283-00508ef41844",
   "metadata": {},
   "outputs": [
    {
     "data": {
      "text/plain": [
       "[34357, 'Sachin Tendulkar']"
      ]
     },
     "execution_count": 48,
     "metadata": {},
     "output_type": "execute_result"
    }
   ],
   "source": [
    "l1"
   ]
  },
  {
   "cell_type": "code",
   "execution_count": 49,
   "id": "8b42e8e4-6c0d-42bb-884e-8ba511d142c5",
   "metadata": {},
   "outputs": [],
   "source": [
    "i = 0\n",
    "L = []\n",
    "for i in range(4) :\n",
    "    l1 = list(l[i])\n",
    "    store_var=l1[0]\n",
    "    l1[0]=l1[1]\n",
    "    l1[1]=store_var\n",
    "    L.append(l1)\n",
    "\n",
    "    "
   ]
  },
  {
   "cell_type": "code",
   "execution_count": 50,
   "id": "ebe055ad-2559-4650-b903-dd32fae41b4e",
   "metadata": {},
   "outputs": [
    {
     "name": "stdout",
     "output_type": "stream",
     "text": [
      "[[34357, 'Sachin Tendulkar'], [27483, 'Ricky Ponting'], [25534, 'Jack Kallis'], [24936, 'Virat Kohli']]\n"
     ]
    }
   ],
   "source": [
    "print(L)"
   ]
  },
  {
   "cell_type": "code",
   "execution_count": 53,
   "id": "8fe35b4a-d46b-472c-83c8-a7b49e7518a7",
   "metadata": {},
   "outputs": [
    {
     "name": "stdout",
     "output_type": "stream",
     "text": [
      "[[24936, 'Virat Kohli'], [25534, 'Jack Kallis'], [27483, 'Ricky Ponting'], [34357, 'Sachin Tendulkar']]\n"
     ]
    }
   ],
   "source": [
    "L.sort()\n",
    "print(L)"
   ]
  },
  {
   "cell_type": "markdown",
   "id": "cfce75d9-a777-444f-a577-55b2fc7f3b27",
   "metadata": {},
   "source": [
    "QUESTION 2"
   ]
  },
  {
   "cell_type": "code",
   "execution_count": 54,
   "id": "67e9771c-4f6d-4cef-aafe-0f8bc1629344",
   "metadata": {},
   "outputs": [],
   "source": [
    "l = [1, 2, 3, 4, 5, 6, 7, 8, 9, 10]"
   ]
  },
  {
   "cell_type": "code",
   "execution_count": 55,
   "id": "91d3d2e2-90ec-4bc9-bcb3-ed921392bc76",
   "metadata": {},
   "outputs": [],
   "source": [
    "l1 = list(map(lambda x : x*x , l))"
   ]
  },
  {
   "cell_type": "code",
   "execution_count": 56,
   "id": "3c29888a-b030-46b5-995a-bafa2c20440a",
   "metadata": {},
   "outputs": [
    {
     "name": "stdout",
     "output_type": "stream",
     "text": [
      "[1, 4, 9, 16, 25, 36, 49, 64, 81, 100]\n"
     ]
    }
   ],
   "source": [
    "print(l1)"
   ]
  },
  {
   "cell_type": "markdown",
   "id": "121cc96d-2e0f-4d50-bbcd-e6d83e4a9143",
   "metadata": {},
   "source": [
    "QUESTION 3"
   ]
  },
  {
   "cell_type": "code",
   "execution_count": 57,
   "id": "5ab963c3-abef-420b-9718-a266f3b146f8",
   "metadata": {},
   "outputs": [],
   "source": [
    "l = [1, 2, 3, 4, 5, 6, 7, 8, 9, 10]"
   ]
  },
  {
   "cell_type": "code",
   "execution_count": 71,
   "id": "7cbd3916-3674-4982-8e05-d77e04efaff5",
   "metadata": {},
   "outputs": [],
   "source": [
    "s = list(map(lambda x : str(x) , l))"
   ]
  },
  {
   "cell_type": "code",
   "execution_count": 72,
   "id": "b04ae905-d6ed-40a4-9c23-2161800a11fa",
   "metadata": {},
   "outputs": [
    {
     "data": {
      "text/plain": [
       "['1', '2', '3', '4', '5', '6', '7', '8', '9', '10']"
      ]
     },
     "execution_count": 72,
     "metadata": {},
     "output_type": "execute_result"
    }
   ],
   "source": [
    "s"
   ]
  },
  {
   "cell_type": "code",
   "execution_count": 73,
   "id": "2d10691a-3ae8-40ee-bda1-dc8efc9025a0",
   "metadata": {},
   "outputs": [],
   "source": [
    "t = tuple(s)"
   ]
  },
  {
   "cell_type": "code",
   "execution_count": 74,
   "id": "77bccb08-8fc0-42d9-888f-d71da67cf3bc",
   "metadata": {},
   "outputs": [
    {
     "data": {
      "text/plain": [
       "('1', '2', '3', '4', '5', '6', '7', '8', '9', '10')"
      ]
     },
     "execution_count": 74,
     "metadata": {},
     "output_type": "execute_result"
    }
   ],
   "source": [
    "t"
   ]
  },
  {
   "cell_type": "markdown",
   "id": "6fc48677-19ac-458e-b818-9432a42d0583",
   "metadata": {},
   "source": [
    "QUESTION 4"
   ]
  },
  {
   "cell_type": "code",
   "execution_count": 75,
   "id": "51139b4e-8a92-4420-835c-8a4e924e5553",
   "metadata": {},
   "outputs": [
    {
     "name": "stdout",
     "output_type": "stream",
     "text": [
      "[1, 2, 3, 4, 5, 6, 7, 8, 9, 10, 11, 12, 13, 14, 15, 16, 17, 18, 19, 20, 21, 22, 23, 24, 25]\n"
     ]
    }
   ],
   "source": [
    "L = []\n",
    "for i in range(1,26) :\n",
    "    L.append(i)\n",
    "print(L)"
   ]
  },
  {
   "cell_type": "code",
   "execution_count": 78,
   "id": "aeaaa437-4603-4b6c-b414-ded11fbe0079",
   "metadata": {},
   "outputs": [],
   "source": [
    "from functools import reduce\n",
    "k = reduce(lambda x,y : x*y , L)"
   ]
  },
  {
   "cell_type": "code",
   "execution_count": 79,
   "id": "97507046-5cc6-49ff-a23b-91cec73c552b",
   "metadata": {},
   "outputs": [
    {
     "data": {
      "text/plain": [
       "15511210043330985984000000"
      ]
     },
     "execution_count": 79,
     "metadata": {},
     "output_type": "execute_result"
    }
   ],
   "source": [
    "k"
   ]
  },
  {
   "cell_type": "markdown",
   "id": "f43b99de-3e08-4aef-98ef-b61d89ba5e41",
   "metadata": {},
   "source": [
    "QUESTION 5"
   ]
  },
  {
   "cell_type": "code",
   "execution_count": 90,
   "id": "11afee59-8c7c-4b03-a3a5-529b4f5062fd",
   "metadata": {},
   "outputs": [],
   "source": [
    "l = [2, 3, 6, 9, 27, 60, 90, 120, 55, 46]"
   ]
  },
  {
   "cell_type": "code",
   "execution_count": 95,
   "id": "c0115526-43a5-407b-8318-ac843751c851",
   "metadata": {},
   "outputs": [],
   "source": [
    "def divisible(i) :\n",
    "        return i%2==0 or i%3==0\n",
    "            "
   ]
  },
  {
   "cell_type": "code",
   "execution_count": 96,
   "id": "e900c4b2-8019-4eec-8f78-2472f7af08cb",
   "metadata": {},
   "outputs": [],
   "source": [
    "l1 = list(filter(divisible,l))"
   ]
  },
  {
   "cell_type": "code",
   "execution_count": 97,
   "id": "e8942751-236f-4b4d-9ab8-73b288fdabac",
   "metadata": {},
   "outputs": [
    {
     "name": "stdout",
     "output_type": "stream",
     "text": [
      "[2, 3, 6, 9, 27, 60, 90, 120, 46]\n"
     ]
    }
   ],
   "source": [
    "print(l1)"
   ]
  },
  {
   "cell_type": "code",
   "execution_count": null,
   "id": "9d8806c5-f4ba-462b-a2c5-20c99418c135",
   "metadata": {},
   "outputs": [],
   "source": []
  }
 ],
 "metadata": {
  "kernelspec": {
   "display_name": "Python 3 (ipykernel)",
   "language": "python",
   "name": "python3"
  },
  "language_info": {
   "codemirror_mode": {
    "name": "ipython",
    "version": 3
   },
   "file_extension": ".py",
   "mimetype": "text/x-python",
   "name": "python",
   "nbconvert_exporter": "python",
   "pygments_lexer": "ipython3",
   "version": "3.10.8"
  }
 },
 "nbformat": 4,
 "nbformat_minor": 5
}
