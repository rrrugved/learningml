{
 "cells": [
  {
   "cell_type": "markdown",
   "id": "54b92390-a029-42d5-9343-2d3f4f461505",
   "metadata": {},
   "source": [
    "QUESTION 1 \n",
    "\n",
    "Abstraction in object-oriented programming (OOP) is the concept of hiding the complex implementation details and showing only the essential features of an object. It allows developers to focus on what an object does rather than how it does it."
   ]
  },
  {
   "cell_type": "code",
   "execution_count": 1,
   "id": "65f8aa43-f44a-4bb3-80cb-3e84f2b27a5d",
   "metadata": {},
   "outputs": [],
   "source": [
    "from abc import ABC, abstractmethod\n",
    "\n",
    "class Shape(ABC):\n",
    "    @abstractmethod\n",
    "    def area(self):\n",
    "        pass\n",
    "\n",
    "class Rectangle(Shape):\n",
    "    def __init__(self, length, width):\n",
    "        self.length = length\n",
    "        self.width = width\n",
    "    \n",
    "    def area(self):\n",
    "        return self.length * self.width"
   ]
  },
  {
   "cell_type": "markdown",
   "id": "4d3744cc-1dea-4433-809b-91241b6a1a5b",
   "metadata": {},
   "source": [
    "QUESTION 2\n",
    "\n",
    "Abstraction:\n",
    "\n",
    "Abstraction focuses on hiding the complex implementation details and showing only the essential features of an object.\n",
    "It allows developers to work at a higher level of understanding, focusing on what an object does rather than how it does it.\n",
    "Abstraction is achieved through abstract classes, interfaces, and abstract methods.\n",
    "Encapsulation:\n",
    "\n",
    "Encapsulation refers to bundling the data (attributes) and methods (behaviors) that operate on the data into a single unit or class.\n",
    "It helps in controlling the access to the data by restricting direct access to it and providing methods to manipulate the data, thus ensuring data integrity and security.\n",
    "Encapsulation is achieved through access modifiers like private, protected, and public."
   ]
  },
  {
   "cell_type": "markdown",
   "id": "932523e3-2f74-4b89-9b2c-ecb70c616a95",
   "metadata": {},
   "source": [
    "QUESTION 3\n",
    "\n",
    "abc module is used to for making the abstract class and its method\n",
    ",sits example is given in question no 1"
   ]
  },
  {
   "cell_type": "markdown",
   "id": "ab8d435b-61ca-450f-80fd-26cce61b4444",
   "metadata": {},
   "source": [
    "QUESTION 4\n",
    "\n",
    "Data abstraction can be achieved by defining abstract classes and abstract methods in object-oriented programming. This involves:\n",
    "\n",
    "Abstract Classes: An abstract class is a class that cannot be instantiated on its own and often includes one or more abstract methods.\n",
    "Abstract Methods: An abstract method is a method that is declared but contains no implementation. Subclasses are required to provide concrete implementations of these methods."
   ]
  },
  {
   "cell_type": "code",
   "execution_count": null,
   "id": "0881b8a9-29a8-4fab-bbd4-41543cf6e8a1",
   "metadata": {},
   "outputs": [],
   "source": []
  }
 ],
 "metadata": {
  "kernelspec": {
   "display_name": "Python 3 (ipykernel)",
   "language": "python",
   "name": "python3"
  },
  "language_info": {
   "codemirror_mode": {
    "name": "ipython",
    "version": 3
   },
   "file_extension": ".py",
   "mimetype": "text/x-python",
   "name": "python",
   "nbconvert_exporter": "python",
   "pygments_lexer": "ipython3",
   "version": "3.10.8"
  }
 },
 "nbformat": 4,
 "nbformat_minor": 5
}
